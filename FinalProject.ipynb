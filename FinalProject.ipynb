{
  "nbformat": 4,
  "nbformat_minor": 0,
  "metadata": {
    "kernelspec": {
      "display_name": "Python 3",
      "language": "python",
      "name": "python3"
    },
    "language_info": {
      "codemirror_mode": {
        "name": "ipython",
        "version": 3
      },
      "file_extension": ".py",
      "mimetype": "text/x-python",
      "name": "python",
      "nbconvert_exporter": "python",
      "pygments_lexer": "ipython3",
      "version": "3.6.6"
    },
    "colab": {
      "provenance": []
    }
  },
  "cells": [
    {
      "cell_type": "code",
      "metadata": {
        "id": "jId5URyXFypZ"
      },
      "source": [
        "import cv2\n",
        "import numpy as np\n",
        "\n",
        "from sklearn.metrics import pairwise"
      ],
      "execution_count": null,
      "outputs": []
    },
    {
      "cell_type": "code",
      "metadata": {
        "id": "XBN5ptVGFypg"
      },
      "source": [
        "background = None\n",
        "\n",
        "accumulated_weight= 0.5\n",
        "\n",
        "roi_top = 20\n",
        "roi_bottom = 300\n",
        "roi_right = 300\n",
        "roi_left = 600"
      ],
      "execution_count": null,
      "outputs": []
    },
    {
      "cell_type": "code",
      "metadata": {
        "id": "qzeRpMnaFypm"
      },
      "source": [
        "def calculate_accum_avg(frame,accumulated_weight):\n",
        "    \n",
        "    global background\n",
        "    \n",
        "    if background is None:\n",
        "        background = frame.copy().astype('float')\n",
        "        return None\n",
        "    \n",
        "    cv2.accumulateWeighted(frame,background,accumulated_weight)"
      ],
      "execution_count": null,
      "outputs": []
    },
    {
      "cell_type": "code",
      "metadata": {
        "id": "Q9MNzmBxFypq"
      },
      "source": [
        "def segment(frame,threshold=25):\n",
        "    \n",
        "    diff = cv2.absdiff(background.astype('uint8'),frame)\n",
        "    \n",
        "    ret,thresholded = cv2.threshold(diff,threshold,255,cv2.THRESH_BINARY)\n",
        "    \n",
        "    image,contours,hierarchy= cv2.findContours(threshold.copy(),cv2.RETR_EXTERNAL,cv2.CHAIN_APPROX_SIMPLE)\n",
        "    \n",
        "    if len(contours) ==0:\n",
        "        return None\n",
        "    \n",
        "    else:\n",
        "        hand_segment = max(contours,key=cv2.contourArea)\n",
        "        \n",
        "        return(thresholded,hand_segment)\n",
        "    \n",
        "    "
      ],
      "execution_count": null,
      "outputs": []
    },
    {
      "cell_type": "code",
      "metadata": {
        "id": "eeitTsvgFypu"
      },
      "source": [
        "def count_fingers(thresholded,hand_segment):\n",
        "    \n",
        "    conv_hull = cv2.convexHull(hand_segment)\n",
        "    \n",
        "    top = tuple(conv_hull[conv_hull[:,:,1].argmin()[0]])\n",
        "    bottom = tuple(conv_hull[conv_hull[:, :, 1].argmax()][0])\n",
        "    left   = tuple(conv_hull[conv_hull[:, :, 0].argmax()][0])\n",
        "    right  = tuple(conv_hull[conv_hull[:, :, 0].argmax()][0])\n",
        "    \n",
        "    cX = (left[0]+right[0]) // 2\n",
        "    cY = (top[1]+bottom[1]) // 2\n",
        "    \n",
        "    distance = pairwise.euclidean_distances([cX,cY],Y=[left,right,top,bottom])[0]\n",
        "    max_distance = distnace.max()\n",
        "    \n",
        "    radius = int(0.9*max_distance)\n",
        "    circumference=(2*np.pi*radius)\n",
        "    \n",
        "    circular_roi = np.zeros(thresholded[:2],dtype='uint8')\n",
        "    \n",
        "    cv2.circle(circular_roi,(cX,cY),radius,255,10)\n",
        "    \n",
        "    circular_roi = cv2.bitwise_and(thresholded,thresholded,mask=circular_roi)\n",
        "    \n",
        "    image,contours,hierarchy = cv2.findContours(circular_roi.copy(),cv2.RETR_EXTERNAL,cv2.CHAIN_APPROX_NONE)\n",
        "    \n",
        "    count = 0\n",
        "    \n",
        "    for cnt in contours:\n",
        "        (c,y,w,h) = cv2.boundingRect(cnt)\n",
        "        \n",
        "        out_of_wrist = (cY+(cY*0.25)) > (y+h)\n",
        "        \n",
        "        limit_points = ((circumference*0.25) > cnt.shape[0])\n",
        "        \n",
        "        if out_of_wrist and limit_points:\n",
        "            count+=1\n",
        "    return count\n",
        "    \n",
        "    \n"
      ],
      "execution_count": null,
      "outputs": []
    },
    {
      "cell_type": "code",
      "metadata": {
        "id": "0PWzGm2_Fypy",
        "colab": {
          "base_uri": "https://localhost:8080/",
          "height": 246
        },
        "outputId": "8d81309a-4a02-4c98-ac6d-6bf2c83f8f2b"
      },
      "source": [
        "cam = cv2.VideoCapture(0)\n",
        "\n",
        "num_frames = 0\n",
        "\n",
        "while True:\n",
        "    \n",
        "    ret,frame = cam.read()\n",
        "    \n",
        "    frame_copy = frame.copy()    \n",
        "        \n",
        "    roi = frame[roi_top:roi_bottom,roi_right:roi_left]\n",
        "      \n",
        "    gray = cv2.cvtColor(roi,cv2.COLOR_BGR2GRAY)\n",
        "    \n",
        "    gray = cv2.GaussianBlur(gray,(7,7),0)\n",
        "    \n",
        "    if num_frames<60:\n",
        "        calculate_accum_avg(gray,accumulated_weight)\n",
        "        \n",
        "        if num_frames<=59:\n",
        "            cv2.putText(frame_copy,'WAIT GETTING BACKGROUND',(200,300),cv2.FONT_HERSHEY_SIMPLEX,1,(0,0,255),2)\n",
        "            cv2.imshow('finger count', frame_copy)\n",
        "        \n",
        "        else:\n",
        "            \n",
        "            hand = segment(gray)\n",
        "            \n",
        "            if hand is not None:\n",
        "                \n",
        "                thresholded, hand_segment = hand\n",
        "                \n",
        "                cv2.drawContours(frame_copy,[hand_segment+(roi_right,roi_top)],-1,(255,0,0),5)\n",
        "                \n",
        "                fingers = count_fingers(thresholded,hand_segment)\n",
        "                \n",
        "                cv2.putText(frame_copy,str(fingers),(70,50),cv2.FONT_HERSHEY_SIMPLEX,1,(0,0,255),3)\n",
        "                \n",
        "                cv2.imshow('Thresholded',thresholded)\n",
        "                \n",
        "        cv2.rectangle(frame_copy,(roi_left,roi_top),(roi_right,roi_bottom),(0,0,255),5)\n",
        "        \n",
        "        num_frames +=1\n",
        "        \n",
        "        cv2.imshow('Finger COunt',frame_copy)\n",
        "        \n",
        "        k = cv2.waitKey(10) & 0xFF\n",
        "        \n",
        "        if k == 27:\n",
        "            break\n",
        "            \n",
        "cam.release()\n",
        "cv2.destroyAllWindows()\n",
        "                \n",
        "        \n",
        "    "
      ],
      "execution_count": null,
      "outputs": [
        {
          "output_type": "error",
          "ename": "AttributeError",
          "evalue": "ignored",
          "traceback": [
            "\u001b[0;31m---------------------------------------------------------------------------\u001b[0m",
            "\u001b[0;31mAttributeError\u001b[0m                            Traceback (most recent call last)",
            "\u001b[0;32m<ipython-input-11-7f5b0e2c5939>\u001b[0m in \u001b[0;36m<module>\u001b[0;34m()\u001b[0m\n\u001b[1;32m      7\u001b[0m     \u001b[0mret\u001b[0m\u001b[0;34m,\u001b[0m\u001b[0mframe\u001b[0m \u001b[0;34m=\u001b[0m \u001b[0mcam\u001b[0m\u001b[0;34m.\u001b[0m\u001b[0mread\u001b[0m\u001b[0;34m(\u001b[0m\u001b[0;34m)\u001b[0m\u001b[0;34m\u001b[0m\u001b[0;34m\u001b[0m\u001b[0m\n\u001b[1;32m      8\u001b[0m \u001b[0;34m\u001b[0m\u001b[0m\n\u001b[0;32m----> 9\u001b[0;31m     \u001b[0mframe_copy\u001b[0m \u001b[0;34m=\u001b[0m \u001b[0mframe\u001b[0m\u001b[0;34m.\u001b[0m\u001b[0mcopy\u001b[0m\u001b[0;34m(\u001b[0m\u001b[0;34m)\u001b[0m\u001b[0;34m\u001b[0m\u001b[0;34m\u001b[0m\u001b[0m\n\u001b[0m\u001b[1;32m     10\u001b[0m \u001b[0;34m\u001b[0m\u001b[0m\n\u001b[1;32m     11\u001b[0m     \u001b[0mroi\u001b[0m \u001b[0;34m=\u001b[0m \u001b[0mframe\u001b[0m\u001b[0;34m[\u001b[0m\u001b[0mroi_top\u001b[0m\u001b[0;34m:\u001b[0m\u001b[0mroi_bottom\u001b[0m\u001b[0;34m,\u001b[0m\u001b[0mroi_right\u001b[0m\u001b[0;34m:\u001b[0m\u001b[0mroi_left\u001b[0m\u001b[0;34m]\u001b[0m\u001b[0;34m\u001b[0m\u001b[0;34m\u001b[0m\u001b[0m\n",
            "\u001b[0;31mAttributeError\u001b[0m: 'NoneType' object has no attribute 'copy'"
          ]
        }
      ]
    },
    {
      "cell_type": "code",
      "metadata": {
        "id": "cjjOshsxFyp3"
      },
      "source": [],
      "execution_count": null,
      "outputs": []
    }
  ]
}